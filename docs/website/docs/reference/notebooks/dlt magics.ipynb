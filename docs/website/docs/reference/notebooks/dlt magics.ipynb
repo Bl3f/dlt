{
 "cells": [
  {
   "cell_type": "code",
   "execution_count": 1,
   "id": "fda1a07d-c5c7-4646-bd4b-fa086754100a",
   "metadata": {},
   "outputs": [],
   "source": [
    "import dlt"
   ]
  },
  {
   "cell_type": "code",
   "execution_count": 2,
   "id": "2fd12f17-f84d-4a8c-9338-93c68868f029",
   "metadata": {},
   "outputs": [
    {
     "data": {
      "text/plain": [
       "'DltMagics version: 0.3.25'"
      ]
     },
     "execution_count": 2,
     "metadata": {},
     "output_type": "execute_result"
    }
   ],
   "source": [
    "#check dlt version\n",
    "%dlt_version"
   ]
  },
  {
   "cell_type": "code",
   "execution_count": 5,
   "id": "733821e9-0f86-4a09-b579-69e042044671",
   "metadata": {},
   "outputs": [
    {
     "name": "stdout",
     "output_type": "stream",
     "text": [
      "Looking up the init scripts in \u001b[1mhttps://github.com/dlt-hub/verified-sources\u001b[0m...\n",
      "No files to update, exiting\n"
     ]
    },
    {
     "data": {
      "text/html": [
       "<div><span style=\"color: green; font-weight: bold\">DLT project initialized successfully.</span></div>"
      ],
      "text/plain": [
       "<IPython.core.display.HTML object>"
      ]
     },
     "metadata": {},
     "output_type": "display_data"
    }
   ],
   "source": [
    "#init dlt pipeline\n",
    "%init --source_name=chess --destination_name=duckdb --use_generic_template --repo_location=https://github.com/dlt-hub/verified-sources"
   ]
  },
  {
   "cell_type": "code",
   "execution_count": 6,
   "id": "0d16b53a-eb88-4820-b935-bdf8f9b135dc",
   "metadata": {},
   "outputs": [
    {
     "name": "stdout",
     "output_type": "stream",
     "text": [
      "Pipeline name = \u001b[1mNone\u001b[0m\n",
      "6 pipelines found in \u001b[1m/Users/vasa/.dlt/pipelines\u001b[0m\n",
      "\u001b[32mdlt_main\u001b[0m\n",
      "\u001b[32mcognitive_architecture\u001b[0m\n",
      "\u001b[32mtrain_ticket\u001b[0m\n",
      "\u001b[32mrecipe\u001b[0m\n",
      "\u001b[32mmovies\u001b[0m\n",
      "\u001b[32mtrain_ticket_processed\u001b[0m\n"
     ]
    }
   ],
   "source": [
    "#check your existing dlt pipelines\n",
    "%pipeline --operation=list-pipelines"
   ]
  },
  {
   "cell_type": "code",
   "execution_count": null,
   "id": "9ba6ab6d-76a6-47af-b59e-71cc43992508",
   "metadata": {},
   "outputs": [],
   "source": []
  }
 ],
 "metadata": {
  "kernelspec": {
   "display_name": "Python 3 (ipykernel)",
   "language": "python",
   "name": "python3"
  },
  "language_info": {
   "codemirror_mode": {
    "name": "ipython",
    "version": 3
   },
   "file_extension": ".py",
   "mimetype": "text/x-python",
   "name": "python",
   "nbconvert_exporter": "python",
   "pygments_lexer": "ipython3",
   "version": "3.11.6"
  }
 },
 "nbformat": 4,
 "nbformat_minor": 5
}
